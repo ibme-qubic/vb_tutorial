{
 "cells": [
  {
   "cell_type": "code",
   "execution_count": null,
   "metadata": {},
   "outputs": [],
   "source": [
    "Stochastic Variational Bayes - example nonlinear model\n",
    "======================================================\n",
    "\n",
    "This notebook implements Example 1 from the FMRIB tutorial on Variational Bayes II: Stochastic Variational Bayes (\"fitting a Gaussian distribution).\n",
    "\n",
    "We assume we have data drawn from a Gaussian distribution with true mean $\\mu$ and true precision $\\beta$:\n",
    "\n",
    "$$\n",
    "P(y_n | \\mu, \\beta) = \\frac{\\sqrt{\\beta}}{\\sqrt{2\\pi}} \\exp{-\\frac{\\beta}{2} (y_n - \\mu)^2}\n",
    "$$\n",
    "\n",
    "One interpretation of this is that our data consists of repeated measurements of a fixed value ($\\mu$) combined with Gaussian noise with standard deviation $\\frac{1}{\\sqrt{\\beta}}$.\n",
    "\n",
    "Here's how we can generate some sample data from this model in Python:"
   ]
  }
 ],
 "metadata": {
  "kernelspec": {
   "display_name": "Python 3",
   "language": "python",
   "name": "python3"
  },
  "language_info": {
   "codemirror_mode": {
    "name": "ipython",
    "version": 3
   },
   "file_extension": ".py",
   "mimetype": "text/x-python",
   "name": "python",
   "nbconvert_exporter": "python",
   "pygments_lexer": "ipython3",
   "version": "3.6.7"
  }
 },
 "nbformat": 4,
 "nbformat_minor": 2
}
